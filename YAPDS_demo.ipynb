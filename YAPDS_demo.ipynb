{
  "nbformat": 4,
  "nbformat_minor": 0,
  "metadata": {
    "colab": {
      "name": "YAPDS demo.ipynb",
      "provenance": []
    },
    "kernelspec": {
      "name": "python3",
      "display_name": "Python 3"
    }
  },
  "cells": [
    {
      "cell_type": "code",
      "metadata": {
        "id": "3nc9EXCQSgro"
      },
      "source": [
        "# dependencies: pycparser, clang, winnowing\r\n",
        "!git clone https://github.com/eliben/pycparser.git\r\n",
        "!git clone https://github.com/zymk9/YAPDS.git"
      ],
      "execution_count": null,
      "outputs": []
    },
    {
      "cell_type": "code",
      "metadata": {
        "id": "KHwKDDAxSpQg"
      },
      "source": [
        "!pip install clang\r\n",
        "!pip install winnowing"
      ],
      "execution_count": null,
      "outputs": []
    },
    {
      "cell_type": "code",
      "metadata": {
        "id": "lV1trualSq0R"
      },
      "source": [
        "%cd /content/YAPDS\r\n",
        "!cp -r /content/pycparser ."
      ],
      "execution_count": null,
      "outputs": []
    },
    {
      "cell_type": "code",
      "metadata": {
        "id": "2vbDf5hHSrpr"
      },
      "source": [
        "# modify the filename in test.py or write your own \r\n",
        "# argument parser for CLI\r\n",
        "!python test.py"
      ],
      "execution_count": null,
      "outputs": []
    }
  ]
}